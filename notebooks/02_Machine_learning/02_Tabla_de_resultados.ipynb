{
 "cells": [
  {
   "cell_type": "markdown",
   "metadata": {},
   "source": [
    "\n",
    "|                |Regresion Logistica |Arboles de Desicion |Random Forest|Gradient Boosting|XGBoost Classifier|SMV       |MLP Classifier|\n",
    "|----------------|--------------------|--------------------|-------------|-----------------|------------------|----------|------------- |\n",
    "|Prueba          |0.8008              |0.7439              |0.7707       |`0.8070 `        |0.7746            |`0.7984`  |0.7643        |\n",
    "|Entrenamiento   |0.8053              |0.9985              |0.9985       |`0.8139`         |0.9266            |`0.8226 ` |0.8580        |\n"
   ]
  },
  {
   "cell_type": "code",
   "execution_count": null,
   "metadata": {
    "vscode": {
     "languageId": "plaintext"
    }
   },
   "outputs": [],
   "source": []
  }
 ],
 "metadata": {
  "language_info": {
   "name": "python"
  }
 },
 "nbformat": 4,
 "nbformat_minor": 2
}
